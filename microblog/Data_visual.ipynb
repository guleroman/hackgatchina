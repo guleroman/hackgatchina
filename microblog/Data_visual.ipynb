{
 "cells": [
  {
   "cell_type": "code",
   "execution_count": 3,
   "metadata": {},
   "outputs": [
    {
     "data": {
      "text/plain": [
       "'3.9.0'"
      ]
     },
     "execution_count": 3,
     "metadata": {},
     "output_type": "execute_result"
    }
   ],
   "source": [
    "import plotly\n",
    "plotly.__version__"
   ]
  },
  {
   "cell_type": "code",
   "execution_count": 4,
   "metadata": {},
   "outputs": [],
   "source": [
    "import plotly.plotly as py\n",
    "import plotly.graph_objs as go\n",
    "\n",
    "import pandas as pd\n",
    "\n",
    "df = pd.read_csv('data.csv', sep=\";\")"
   ]
  },
  {
   "cell_type": "code",
   "execution_count": 6,
   "metadata": {},
   "outputs": [
    {
     "data": {
      "text/html": [
       "<div>\n",
       "<style scoped>\n",
       "    .dataframe tbody tr th:only-of-type {\n",
       "        vertical-align: middle;\n",
       "    }\n",
       "\n",
       "    .dataframe tbody tr th {\n",
       "        vertical-align: top;\n",
       "    }\n",
       "\n",
       "    .dataframe thead th {\n",
       "        text-align: right;\n",
       "    }\n",
       "</style>\n",
       "<table border=\"1\" class=\"dataframe\">\n",
       "  <thead>\n",
       "    <tr style=\"text-align: right;\">\n",
       "      <th></th>\n",
       "      <th>n</th>\n",
       "      <th>lat</th>\n",
       "      <th>lon</th>\n",
       "    </tr>\n",
       "  </thead>\n",
       "  <tbody>\n",
       "    <tr>\n",
       "      <th>0</th>\n",
       "      <td>0</td>\n",
       "      <td>59.564019</td>\n",
       "      <td>30.118965</td>\n",
       "    </tr>\n",
       "    <tr>\n",
       "      <th>1</th>\n",
       "      <td>1</td>\n",
       "      <td>59.564019</td>\n",
       "      <td>30.118965</td>\n",
       "    </tr>\n",
       "    <tr>\n",
       "      <th>2</th>\n",
       "      <td>2</td>\n",
       "      <td>59.563842</td>\n",
       "      <td>30.119546</td>\n",
       "    </tr>\n",
       "    <tr>\n",
       "      <th>3</th>\n",
       "      <td>3</td>\n",
       "      <td>59.563842</td>\n",
       "      <td>30.119546</td>\n",
       "    </tr>\n",
       "    <tr>\n",
       "      <th>4</th>\n",
       "      <td>4</td>\n",
       "      <td>59.563614</td>\n",
       "      <td>30.120286</td>\n",
       "    </tr>\n",
       "  </tbody>\n",
       "</table>\n",
       "</div>"
      ],
      "text/plain": [
       "   n        lat        lon\n",
       "0  0  59.564019  30.118965\n",
       "1  1  59.564019  30.118965\n",
       "2  2  59.563842  30.119546\n",
       "3  3  59.563842  30.119546\n",
       "4  4  59.563614  30.120286"
      ]
     },
     "execution_count": 6,
     "metadata": {},
     "output_type": "execute_result"
    }
   ],
   "source": [
    "df.head()"
   ]
  },
  {
   "cell_type": "code",
   "execution_count": 19,
   "metadata": {},
   "outputs": [],
   "source": [
    "colors = [\"rgb(0,116,217)\",\"rgb(255,65,54)\",\"rgb(133,20,75)\",\"rgb(255,133,27)\",\"lightgrey\"]\n",
    "limits = [(0,10)]\n",
    "cities = []\n",
    "scale = 5000"
   ]
  },
  {
   "cell_type": "code",
   "execution_count": 20,
   "metadata": {},
   "outputs": [
    {
     "name": "stdout",
     "output_type": "stream",
     "text": [
      "   n        lat        lon\n",
      "0  0  59.564019  30.118965\n",
      "1  1  59.564019  30.118965\n",
      "2  2  59.563842  30.119546\n",
      "3  3  59.563842  30.119546\n",
      "4  4  59.563614  30.120286\n",
      "5  5  59.563614  30.120286\n",
      "6  6  59.563505  30.120497\n",
      "7  7  59.563345  30.120683\n",
      "8  8  59.563345  30.120682\n",
      "9  9  59.563110  30.120951\n"
     ]
    },
    {
     "ename": "KeyError",
     "evalue": "'lon'",
     "output_type": "error",
     "traceback": [
      "\u001b[1;31m---------------------------------------------------------------------------\u001b[0m",
      "\u001b[1;31mKeyError\u001b[0m                                  Traceback (most recent call last)",
      "\u001b[1;32mC:\\Anacon\\lib\\site-packages\\pandas\\core\\indexes\\base.py\u001b[0m in \u001b[0;36mget_loc\u001b[1;34m(self, key, method, tolerance)\u001b[0m\n\u001b[0;32m   3077\u001b[0m             \u001b[1;32mtry\u001b[0m\u001b[1;33m:\u001b[0m\u001b[1;33m\u001b[0m\u001b[1;33m\u001b[0m\u001b[0m\n\u001b[1;32m-> 3078\u001b[1;33m                 \u001b[1;32mreturn\u001b[0m \u001b[0mself\u001b[0m\u001b[1;33m.\u001b[0m\u001b[0m_engine\u001b[0m\u001b[1;33m.\u001b[0m\u001b[0mget_loc\u001b[0m\u001b[1;33m(\u001b[0m\u001b[0mkey\u001b[0m\u001b[1;33m)\u001b[0m\u001b[1;33m\u001b[0m\u001b[1;33m\u001b[0m\u001b[0m\n\u001b[0m\u001b[0;32m   3079\u001b[0m             \u001b[1;32mexcept\u001b[0m \u001b[0mKeyError\u001b[0m\u001b[1;33m:\u001b[0m\u001b[1;33m\u001b[0m\u001b[1;33m\u001b[0m\u001b[0m\n",
      "\u001b[1;32mpandas\\_libs\\index.pyx\u001b[0m in \u001b[0;36mpandas._libs.index.IndexEngine.get_loc\u001b[1;34m()\u001b[0m\n",
      "\u001b[1;32mpandas\\_libs\\index.pyx\u001b[0m in \u001b[0;36mpandas._libs.index.IndexEngine.get_loc\u001b[1;34m()\u001b[0m\n",
      "\u001b[1;32mpandas\\_libs\\hashtable_class_helper.pxi\u001b[0m in \u001b[0;36mpandas._libs.hashtable.PyObjectHashTable.get_item\u001b[1;34m()\u001b[0m\n",
      "\u001b[1;32mpandas\\_libs\\hashtable_class_helper.pxi\u001b[0m in \u001b[0;36mpandas._libs.hashtable.PyObjectHashTable.get_item\u001b[1;34m()\u001b[0m\n",
      "\u001b[1;31mKeyError\u001b[0m: 'lon'",
      "\nDuring handling of the above exception, another exception occurred:\n",
      "\u001b[1;31mKeyError\u001b[0m                                  Traceback (most recent call last)",
      "\u001b[1;32m<ipython-input-20-bfdb7164183a>\u001b[0m in \u001b[0;36m<module>\u001b[1;34m\u001b[0m\n\u001b[0;32m      3\u001b[0m     \u001b[0mdf_sub\u001b[0m \u001b[1;33m=\u001b[0m \u001b[0mdf\u001b[0m\u001b[1;33m[\u001b[0m\u001b[0mlim\u001b[0m\u001b[1;33m[\u001b[0m\u001b[1;36m0\u001b[0m\u001b[1;33m]\u001b[0m\u001b[1;33m:\u001b[0m\u001b[0mlim\u001b[0m\u001b[1;33m[\u001b[0m\u001b[1;36m1\u001b[0m\u001b[1;33m]\u001b[0m\u001b[1;33m]\u001b[0m\u001b[1;33m\u001b[0m\u001b[1;33m\u001b[0m\u001b[0m\n\u001b[0;32m      4\u001b[0m     \u001b[0mprint\u001b[0m \u001b[1;33m(\u001b[0m\u001b[0mdf_sub\u001b[0m\u001b[1;33m)\u001b[0m\u001b[1;33m\u001b[0m\u001b[1;33m\u001b[0m\u001b[0m\n\u001b[1;32m----> 5\u001b[1;33m     city = go.Scattergeo(lon = df_sub['lon'],\n\u001b[0m\u001b[0;32m      6\u001b[0m         \u001b[0mlat\u001b[0m \u001b[1;33m=\u001b[0m \u001b[0mdf_sub\u001b[0m\u001b[1;33m[\u001b[0m\u001b[1;34m'lat'\u001b[0m\u001b[1;33m]\u001b[0m\u001b[1;33m,\u001b[0m\u001b[1;33m\u001b[0m\u001b[1;33m\u001b[0m\u001b[0m\n\u001b[0;32m      7\u001b[0m         marker = go.scattergeo.Marker(\n",
      "\u001b[1;32mC:\\Anacon\\lib\\site-packages\\pandas\\core\\frame.py\u001b[0m in \u001b[0;36m__getitem__\u001b[1;34m(self, key)\u001b[0m\n\u001b[0;32m   2686\u001b[0m             \u001b[1;32mreturn\u001b[0m \u001b[0mself\u001b[0m\u001b[1;33m.\u001b[0m\u001b[0m_getitem_multilevel\u001b[0m\u001b[1;33m(\u001b[0m\u001b[0mkey\u001b[0m\u001b[1;33m)\u001b[0m\u001b[1;33m\u001b[0m\u001b[1;33m\u001b[0m\u001b[0m\n\u001b[0;32m   2687\u001b[0m         \u001b[1;32melse\u001b[0m\u001b[1;33m:\u001b[0m\u001b[1;33m\u001b[0m\u001b[1;33m\u001b[0m\u001b[0m\n\u001b[1;32m-> 2688\u001b[1;33m             \u001b[1;32mreturn\u001b[0m \u001b[0mself\u001b[0m\u001b[1;33m.\u001b[0m\u001b[0m_getitem_column\u001b[0m\u001b[1;33m(\u001b[0m\u001b[0mkey\u001b[0m\u001b[1;33m)\u001b[0m\u001b[1;33m\u001b[0m\u001b[1;33m\u001b[0m\u001b[0m\n\u001b[0m\u001b[0;32m   2689\u001b[0m \u001b[1;33m\u001b[0m\u001b[0m\n\u001b[0;32m   2690\u001b[0m     \u001b[1;32mdef\u001b[0m \u001b[0m_getitem_column\u001b[0m\u001b[1;33m(\u001b[0m\u001b[0mself\u001b[0m\u001b[1;33m,\u001b[0m \u001b[0mkey\u001b[0m\u001b[1;33m)\u001b[0m\u001b[1;33m:\u001b[0m\u001b[1;33m\u001b[0m\u001b[1;33m\u001b[0m\u001b[0m\n",
      "\u001b[1;32mC:\\Anacon\\lib\\site-packages\\pandas\\core\\frame.py\u001b[0m in \u001b[0;36m_getitem_column\u001b[1;34m(self, key)\u001b[0m\n\u001b[0;32m   2693\u001b[0m         \u001b[1;31m# get column\u001b[0m\u001b[1;33m\u001b[0m\u001b[1;33m\u001b[0m\u001b[1;33m\u001b[0m\u001b[0m\n\u001b[0;32m   2694\u001b[0m         \u001b[1;32mif\u001b[0m \u001b[0mself\u001b[0m\u001b[1;33m.\u001b[0m\u001b[0mcolumns\u001b[0m\u001b[1;33m.\u001b[0m\u001b[0mis_unique\u001b[0m\u001b[1;33m:\u001b[0m\u001b[1;33m\u001b[0m\u001b[1;33m\u001b[0m\u001b[0m\n\u001b[1;32m-> 2695\u001b[1;33m             \u001b[1;32mreturn\u001b[0m \u001b[0mself\u001b[0m\u001b[1;33m.\u001b[0m\u001b[0m_get_item_cache\u001b[0m\u001b[1;33m(\u001b[0m\u001b[0mkey\u001b[0m\u001b[1;33m)\u001b[0m\u001b[1;33m\u001b[0m\u001b[1;33m\u001b[0m\u001b[0m\n\u001b[0m\u001b[0;32m   2696\u001b[0m \u001b[1;33m\u001b[0m\u001b[0m\n\u001b[0;32m   2697\u001b[0m         \u001b[1;31m# duplicate columns & possible reduce dimensionality\u001b[0m\u001b[1;33m\u001b[0m\u001b[1;33m\u001b[0m\u001b[1;33m\u001b[0m\u001b[0m\n",
      "\u001b[1;32mC:\\Anacon\\lib\\site-packages\\pandas\\core\\generic.py\u001b[0m in \u001b[0;36m_get_item_cache\u001b[1;34m(self, item)\u001b[0m\n\u001b[0;32m   2487\u001b[0m         \u001b[0mres\u001b[0m \u001b[1;33m=\u001b[0m \u001b[0mcache\u001b[0m\u001b[1;33m.\u001b[0m\u001b[0mget\u001b[0m\u001b[1;33m(\u001b[0m\u001b[0mitem\u001b[0m\u001b[1;33m)\u001b[0m\u001b[1;33m\u001b[0m\u001b[1;33m\u001b[0m\u001b[0m\n\u001b[0;32m   2488\u001b[0m         \u001b[1;32mif\u001b[0m \u001b[0mres\u001b[0m \u001b[1;32mis\u001b[0m \u001b[1;32mNone\u001b[0m\u001b[1;33m:\u001b[0m\u001b[1;33m\u001b[0m\u001b[1;33m\u001b[0m\u001b[0m\n\u001b[1;32m-> 2489\u001b[1;33m             \u001b[0mvalues\u001b[0m \u001b[1;33m=\u001b[0m \u001b[0mself\u001b[0m\u001b[1;33m.\u001b[0m\u001b[0m_data\u001b[0m\u001b[1;33m.\u001b[0m\u001b[0mget\u001b[0m\u001b[1;33m(\u001b[0m\u001b[0mitem\u001b[0m\u001b[1;33m)\u001b[0m\u001b[1;33m\u001b[0m\u001b[1;33m\u001b[0m\u001b[0m\n\u001b[0m\u001b[0;32m   2490\u001b[0m             \u001b[0mres\u001b[0m \u001b[1;33m=\u001b[0m \u001b[0mself\u001b[0m\u001b[1;33m.\u001b[0m\u001b[0m_box_item_values\u001b[0m\u001b[1;33m(\u001b[0m\u001b[0mitem\u001b[0m\u001b[1;33m,\u001b[0m \u001b[0mvalues\u001b[0m\u001b[1;33m)\u001b[0m\u001b[1;33m\u001b[0m\u001b[1;33m\u001b[0m\u001b[0m\n\u001b[0;32m   2491\u001b[0m             \u001b[0mcache\u001b[0m\u001b[1;33m[\u001b[0m\u001b[0mitem\u001b[0m\u001b[1;33m]\u001b[0m \u001b[1;33m=\u001b[0m \u001b[0mres\u001b[0m\u001b[1;33m\u001b[0m\u001b[1;33m\u001b[0m\u001b[0m\n",
      "\u001b[1;32mC:\\Anacon\\lib\\site-packages\\pandas\\core\\internals.py\u001b[0m in \u001b[0;36mget\u001b[1;34m(self, item, fastpath)\u001b[0m\n\u001b[0;32m   4113\u001b[0m \u001b[1;33m\u001b[0m\u001b[0m\n\u001b[0;32m   4114\u001b[0m             \u001b[1;32mif\u001b[0m \u001b[1;32mnot\u001b[0m \u001b[0misna\u001b[0m\u001b[1;33m(\u001b[0m\u001b[0mitem\u001b[0m\u001b[1;33m)\u001b[0m\u001b[1;33m:\u001b[0m\u001b[1;33m\u001b[0m\u001b[1;33m\u001b[0m\u001b[0m\n\u001b[1;32m-> 4115\u001b[1;33m                 \u001b[0mloc\u001b[0m \u001b[1;33m=\u001b[0m \u001b[0mself\u001b[0m\u001b[1;33m.\u001b[0m\u001b[0mitems\u001b[0m\u001b[1;33m.\u001b[0m\u001b[0mget_loc\u001b[0m\u001b[1;33m(\u001b[0m\u001b[0mitem\u001b[0m\u001b[1;33m)\u001b[0m\u001b[1;33m\u001b[0m\u001b[1;33m\u001b[0m\u001b[0m\n\u001b[0m\u001b[0;32m   4116\u001b[0m             \u001b[1;32melse\u001b[0m\u001b[1;33m:\u001b[0m\u001b[1;33m\u001b[0m\u001b[1;33m\u001b[0m\u001b[0m\n\u001b[0;32m   4117\u001b[0m                 \u001b[0mindexer\u001b[0m \u001b[1;33m=\u001b[0m \u001b[0mnp\u001b[0m\u001b[1;33m.\u001b[0m\u001b[0marange\u001b[0m\u001b[1;33m(\u001b[0m\u001b[0mlen\u001b[0m\u001b[1;33m(\u001b[0m\u001b[0mself\u001b[0m\u001b[1;33m.\u001b[0m\u001b[0mitems\u001b[0m\u001b[1;33m)\u001b[0m\u001b[1;33m)\u001b[0m\u001b[1;33m[\u001b[0m\u001b[0misna\u001b[0m\u001b[1;33m(\u001b[0m\u001b[0mself\u001b[0m\u001b[1;33m.\u001b[0m\u001b[0mitems\u001b[0m\u001b[1;33m)\u001b[0m\u001b[1;33m]\u001b[0m\u001b[1;33m\u001b[0m\u001b[1;33m\u001b[0m\u001b[0m\n",
      "\u001b[1;32mC:\\Anacon\\lib\\site-packages\\pandas\\core\\indexes\\base.py\u001b[0m in \u001b[0;36mget_loc\u001b[1;34m(self, key, method, tolerance)\u001b[0m\n\u001b[0;32m   3078\u001b[0m                 \u001b[1;32mreturn\u001b[0m \u001b[0mself\u001b[0m\u001b[1;33m.\u001b[0m\u001b[0m_engine\u001b[0m\u001b[1;33m.\u001b[0m\u001b[0mget_loc\u001b[0m\u001b[1;33m(\u001b[0m\u001b[0mkey\u001b[0m\u001b[1;33m)\u001b[0m\u001b[1;33m\u001b[0m\u001b[1;33m\u001b[0m\u001b[0m\n\u001b[0;32m   3079\u001b[0m             \u001b[1;32mexcept\u001b[0m \u001b[0mKeyError\u001b[0m\u001b[1;33m:\u001b[0m\u001b[1;33m\u001b[0m\u001b[1;33m\u001b[0m\u001b[0m\n\u001b[1;32m-> 3080\u001b[1;33m                 \u001b[1;32mreturn\u001b[0m \u001b[0mself\u001b[0m\u001b[1;33m.\u001b[0m\u001b[0m_engine\u001b[0m\u001b[1;33m.\u001b[0m\u001b[0mget_loc\u001b[0m\u001b[1;33m(\u001b[0m\u001b[0mself\u001b[0m\u001b[1;33m.\u001b[0m\u001b[0m_maybe_cast_indexer\u001b[0m\u001b[1;33m(\u001b[0m\u001b[0mkey\u001b[0m\u001b[1;33m)\u001b[0m\u001b[1;33m)\u001b[0m\u001b[1;33m\u001b[0m\u001b[1;33m\u001b[0m\u001b[0m\n\u001b[0m\u001b[0;32m   3081\u001b[0m \u001b[1;33m\u001b[0m\u001b[0m\n\u001b[0;32m   3082\u001b[0m         \u001b[0mindexer\u001b[0m \u001b[1;33m=\u001b[0m \u001b[0mself\u001b[0m\u001b[1;33m.\u001b[0m\u001b[0mget_indexer\u001b[0m\u001b[1;33m(\u001b[0m\u001b[1;33m[\u001b[0m\u001b[0mkey\u001b[0m\u001b[1;33m]\u001b[0m\u001b[1;33m,\u001b[0m \u001b[0mmethod\u001b[0m\u001b[1;33m=\u001b[0m\u001b[0mmethod\u001b[0m\u001b[1;33m,\u001b[0m \u001b[0mtolerance\u001b[0m\u001b[1;33m=\u001b[0m\u001b[0mtolerance\u001b[0m\u001b[1;33m)\u001b[0m\u001b[1;33m\u001b[0m\u001b[1;33m\u001b[0m\u001b[0m\n",
      "\u001b[1;32mpandas\\_libs\\index.pyx\u001b[0m in \u001b[0;36mpandas._libs.index.IndexEngine.get_loc\u001b[1;34m()\u001b[0m\n",
      "\u001b[1;32mpandas\\_libs\\index.pyx\u001b[0m in \u001b[0;36mpandas._libs.index.IndexEngine.get_loc\u001b[1;34m()\u001b[0m\n",
      "\u001b[1;32mpandas\\_libs\\hashtable_class_helper.pxi\u001b[0m in \u001b[0;36mpandas._libs.hashtable.PyObjectHashTable.get_item\u001b[1;34m()\u001b[0m\n",
      "\u001b[1;32mpandas\\_libs\\hashtable_class_helper.pxi\u001b[0m in \u001b[0;36mpandas._libs.hashtable.PyObjectHashTable.get_item\u001b[1;34m()\u001b[0m\n",
      "\u001b[1;31mKeyError\u001b[0m: 'lon'"
     ]
    }
   ],
   "source": [
    "for i in range(len(df)):\n",
    "    lim = limits[i]\n",
    "    city = go.Scattergeo(lon = df_sub['lon'],\n",
    "        lat = df_sub['lat'],\n",
    "        marker = go.scattergeo.Marker(\n",
    "            size = df_sub['n']/scale,\n",
    "            color = colors[i],\n",
    "            line = go.scattergeo.marker.Line(\n",
    "                width=0.5, color='rgb(40,40,40)'\n",
    "            ),\n",
    "            sizemode = 'area'\n",
    "        ),\n",
    "        name = '{0} - {1}'.format(lim[0],lim[1]) )\n",
    "    cities.append(city)"
   ]
  },
  {
   "cell_type": "code",
   "execution_count": null,
   "metadata": {},
   "outputs": [],
   "source": []
  },
  {
   "cell_type": "code",
   "execution_count": 37,
   "metadata": {},
   "outputs": [
    {
     "name": "stdout",
     "output_type": "stream",
     "text": [
      "[Scattergeo({\n",
      "    'lat': array([40.7305991, 34.053717 ]),\n",
      "    'lon': array([ 73.9865812, 118.2427266]),\n",
      "    'marker': {'color': 'rgb(0,116,217)',\n",
      "               'line': {'color': 'rgb(40,40,40)', 'width': 0.5},\n",
      "               'size': array([1657.4476,  765.2846]),\n",
      "               'sizemode': 'area'},\n",
      "    'name': '0 - 2',\n",
      "    'text': array(['New York <br>Population 8.287238 million',\n",
      "                   'Los Angeles <br>Population 3.826423 million'], dtype=object)\n",
      "}), Scattergeo({\n",
      "    'lat': array([29.7589382, 39.952335 , 33.4467681, 29.4246002, 32.7174209, 32.7761963,\n",
      "                  37.3438502]),\n",
      "    'lon': array([ 95.3676974,  75.163789 , 112.0756724,  98.4951405, 117.1627714,\n",
      "                   96.7968994, 121.8831349]),\n",
      "    'marker': {'color': 'rgb(255,65,54)',\n",
      "               'line': {'color': 'rgb(40,40,40)', 'width': 0.5},\n",
      "               'size': array([425.9568, 307.8626, 293.0228, 271.8348, 264.2032, 243.8798, 194.299 ]),\n",
      "               'sizemode': 'area'},\n",
      "    'name': '3 - 10',\n",
      "    'text': array(['Houston <br>Population 2.129784 million',\n",
      "                   'Philadelphia <br>Population 1.539313 million',\n",
      "                   'Phoenix <br>Population 1.465114 million',\n",
      "                   'San Antonio <br>Population 1.359174 million',\n",
      "                   'San Diego <br>Population 1.321016 million',\n",
      "                   'Dallas <br>Population 1.219399 million',\n",
      "                   'San Jose <br>Population 0.971495 million'], dtype=object)\n",
      "}), Scattergeo({\n",
      "    'lat': array([30.3321838, 39.7683331, 37.7792768, 39.9622601, 32.753177 , 35.2270869,\n",
      "                  42.3486635, 31.8111305, 35.1490215]),\n",
      "    'lon': array([ 81.655651 ,  86.1583502, 122.4192704,  83.0007065,  97.3327459,\n",
      "                   80.8431268,  83.0567375, 106.5013493,  90.0516285]),\n",
      "    'marker': {'color': 'rgb(133,20,75)',\n",
      "               'line': {'color': 'rgb(40,40,40)', 'width': 0.5},\n",
      "               'size': array([165.9086, 165.4692, 163.2478, 159.854 , 152.379 , 151.2408, 140.4298,\n",
      "                              133.1006, 131.195 ]),\n",
      "               'sizemode': 'area'},\n",
      "    'name': '11 - 20',\n",
      "    'text': array(['Jacksonville <br>Population 0.829543 million',\n",
      "                   'Indianapolis  <br>Population 0.827346 million',\n",
      "                   'San Francisco <br>Population 0.816239 million',\n",
      "                   'Columbus <br>Population 0.79927 million',\n",
      "                   'Fort Worth <br>Population 0.761895 million',\n",
      "                   'Charlotte <br>Population 0.756204 million',\n",
      "                   'Detroit <br>Population 0.702149 million',\n",
      "                   'El Paso <br>Population 0.665503 million',\n",
      "                   'Memphis <br>Population 0.655975 million'], dtype=object)\n",
      "}), Scattergeo({\n",
      "    'lat': array([47.6038321, 39.2908608, 38.8949549, 39.7391536, 36.187025 , 38.209237 ,\n",
      "                  43.0349931, 45.5202471, 35.4729886, 36.1662859, 35.0841034, 32.2217422,\n",
      "                  36.7394421, 38.5815719, 33.7774658, 39.0844687, 33.436188 , 36.7953025,\n",
      "                  33.7490987, 41.2587317, 38.8339578, 35.7804015, 25.7742658, 37.8044557,\n",
      "                  36.1556805, 41.5051613, 44.9772995, 37.6922361, 32.7355816]),\n",
      "    'lon': array([122.3300624 ,  76.6108073 ,  77.0366456 , 104.9847034 ,  86.78086153,\n",
      "                   85.7038502 ,  87.922497  , 122.6741949 ,  97.5170536 , 115.149225  ,\n",
      "                  106.6509851 , 110.9264759 , 119.7848307 , 121.4943996 , 118.1884871 ,\n",
      "                   94.5630298 , 111.5860661 ,  76.05092502,  84.3901849 ,  95.9378732 ,\n",
      "                  104.8253485 ,  78.6390779 ,  80.1936589 , 122.2713563 ,  95.9929113 ,\n",
      "                   81.6934446 ,  93.2654692 ,  97.3375448 ,  97.1071186 ]),\n",
      "    'marker': {'color': 'rgb(255,133,27)',\n",
      "               'line': {'color': 'rgb(40,40,40)', 'width': 0.5},\n",
      "               'size': array([124.435 , 124.1778, 124.0854, 123.878 , 122.4486, 120.3418, 119.487 ,\n",
      "                              118.7718, 117.9792, 117.6514, 110.3626, 104.8384, 100.2714,  94.325 ,\n",
      "                               93.165 ,  92.407 ,  88.9908,  88.5968,  86.427 ,  85.9208,  85.4832,\n",
      "                               82.827 ,  82.4876,  79.3298,  78.5502,  78.501 ,  77.6506,  76.7392,\n",
      "                               74.1816]),\n",
      "               'sizemode': 'area'},\n",
      "    'name': '21 - 50',\n",
      "    'text': array(['Seattle <br>Population 0.622175 million',\n",
      "                   'Baltimore <br>Population 0.620889 million',\n",
      "                   'Washington <br>Population 0.620427 million',\n",
      "                   'Denver <br>Population 0.61939 million',\n",
      "                   'Nashville Davidson   <br>Population 0.612243 million',\n",
      "                   'Louisville/Jefferson County   <br>Population 0.601709 million',\n",
      "                   'Milwaukee <br>Population 0.597435 million',\n",
      "                   'Portland <br>Population 0.593859 million',\n",
      "                   'Oklahoma City <br>Population 0.589896 million',\n",
      "                   'Las Vegas <br>Population 0.588257 million',\n",
      "                   'Albuquerque <br>Population 0.551813 million',\n",
      "                   'Tucson <br>Population 0.524192 million',\n",
      "                   'Fresno <br>Population 0.501357 million',\n",
      "                   'Sacramento <br>Population 0.471625 million',\n",
      "                   'Long Beach <br>Population 0.465825 million',\n",
      "                   'Kansas City <br>Population 0.462035 million',\n",
      "                   'Mesa <br>Population 0.444954 million',\n",
      "                   'Virginia Beach <br>Population 0.442984 million',\n",
      "                   'Atlanta <br>Population 0.432135 million',\n",
      "                   'Omaha <br>Population 0.429604 million',\n",
      "                   'Colorado Springs <br>Population 0.427416 million',\n",
      "                   'Raleigh <br>Population 0.414135 million',\n",
      "                   'Miami <br>Population 0.412438 million',\n",
      "                   'Oakland <br>Population 0.396649 million',\n",
      "                   'Tulsa <br>Population 0.392751 million',\n",
      "                   'Cleveland <br>Population 0.392505 million',\n",
      "                   'Minneapolis <br>Population 0.388253 million',\n",
      "                   'Wichita <br>Population 0.383696 million',\n",
      "                   'Arlington <br>Population 0.370908 million'], dtype=object)\n",
      "}), Scattergeo({\n",
      "    'lat': array([29.9499323 , 35.3738712 , 27.9477595 , ..., 35.20887825, 37.8399791 ,\n",
      "                  38.3010487 ]),\n",
      "    'lon': array([ 90.0701156, 119.0194639,  82.458444 , ...,  97.4450754,  94.7082882,\n",
      "                   88.9344303]),\n",
      "    'marker': {'color': 'lightgrey',\n",
      "               'line': {'color': 'rgb(40,40,40)', 'width': 0.5},\n",
      "               'size': array([72.1754, 70.7066, 69.3868, ...,  1.5936,  1.5932,  1.5916]),\n",
      "               'sizemode': 'area'},\n",
      "    'name': '50 - 3000',\n",
      "    'text': array(['New Orleans <br>Population 0.360877 million',\n",
      "                   'Bakersfield <br>Population 0.353533 million',\n",
      "                   'Tampa <br>Population 0.346934 million', ...,\n",
      "                   'Carnegie borough<br>Population 0.007968 million',\n",
      "                   'Fort Scott <br>Population 0.007966 million',\n",
      "                   'Jefferson <br>Population 0.007958 million'], dtype=object)\n",
      "})]\n",
      "High five! You successfully sent some data to your account on plotly. View your plot in your browser at https://plot.ly/~sadrik81/0 or inside your plot.ly account where it is named 'd3-bubble-map-populations'\n"
     ]
    },
    {
     "data": {
      "text/html": [
       "<iframe id=\"igraph\" scrolling=\"no\" style=\"border:none;\" seamless=\"seamless\" src=\"https://plot.ly/~sadrik81/0.embed\" height=\"525px\" width=\"100%\"></iframe>"
      ],
      "text/plain": [
       "<chart_studio.tools.PlotlyDisplay object>"
      ]
     },
     "execution_count": 37,
     "metadata": {},
     "output_type": "execute_result"
    }
   ],
   "source": [
    "df = pd.read_csv('1.csv')\n",
    "df.head()\n",
    "plotly.tools.set_credentials_file(username='sadrik81', api_key='L63ZtbLhPRTl01T9ykKn')\n",
    "df['text'] = df['name'] + '<br>Population ' + (df['pop']/1e6).astype(str)+' million'\n",
    "limits = [(0,2),(3,10),(11,20),(21,50),(50,3000)]\n",
    "colors = [\"rgb(0,116,217)\",\"rgb(255,65,54)\",\"rgb(133,20,75)\",\"rgb(255,133,27)\",\"lightgrey\"]\n",
    "cities = []\n",
    "scale = 5000\n",
    "\n",
    "for i in range(len(limits)):\n",
    "    lim = limits[i]\n",
    "    df_sub = df[lim[0]:lim[1]]\n",
    "    city = go.Scattergeo(lon = df_sub['lon'],\n",
    "        lat = df_sub['lat'],\n",
    "        text = df_sub['text'],\n",
    "        marker = go.scattergeo.Marker(\n",
    "            size = df_sub['pop']/scale,\n",
    "            color = colors[i],\n",
    "            line = go.scattergeo.marker.Line(\n",
    "                width=0.5, color='rgb(40,40,40)'\n",
    "            ),\n",
    "            sizemode = 'area'\n",
    "        ),\n",
    "        name = '{0} - {1}'.format(lim[0],lim[1]) )\n",
    "    cities.append(city)\n",
    "print (cities)\n",
    "layout = go.Layout(\n",
    "        title = go.layout.Title(\n",
    "            text = '2014 US city populations<br>(Click legend to toggle traces)'\n",
    "        ),\n",
    "        showlegend = True,\n",
    "        geo = go.layout.Geo(\n",
    "            scope = 'asia',\n",
    "            projection = go.layout.geo.Projection(\n",
    "                type='albers usa'\n",
    "            ),\n",
    "            showland = True,\n",
    "            landcolor = 'rgb(217, 217, 217)',\n",
    "            subunitwidth=1,\n",
    "            countrywidth=1,\n",
    "            subunitcolor=\"rgb(255, 255, 255)\",\n",
    "            countrycolor=\"rgb(255, 255, 255)\"\n",
    "        )\n",
    "    )\n",
    "\n",
    "fig = go.Figure(data=cities, layout=layout)\n",
    "py.iplot(fig, filename='d3-bubble-map-populations')"
   ]
  },
  {
   "cell_type": "code",
   "execution_count": 36,
   "metadata": {},
   "outputs": [
    {
     "data": {
      "text/html": [
       "<div>\n",
       "<style scoped>\n",
       "    .dataframe tbody tr th:only-of-type {\n",
       "        vertical-align: middle;\n",
       "    }\n",
       "\n",
       "    .dataframe tbody tr th {\n",
       "        vertical-align: top;\n",
       "    }\n",
       "\n",
       "    .dataframe thead th {\n",
       "        text-align: right;\n",
       "    }\n",
       "</style>\n",
       "<table border=\"1\" class=\"dataframe\">\n",
       "  <thead>\n",
       "    <tr style=\"text-align: right;\">\n",
       "      <th></th>\n",
       "      <th>n</th>\n",
       "      <th>lat</th>\n",
       "      <th>lon</th>\n",
       "    </tr>\n",
       "  </thead>\n",
       "  <tbody>\n",
       "    <tr>\n",
       "      <th>0</th>\n",
       "      <td>0</td>\n",
       "      <td>59.564019</td>\n",
       "      <td>30.118965</td>\n",
       "    </tr>\n",
       "    <tr>\n",
       "      <th>1</th>\n",
       "      <td>1</td>\n",
       "      <td>59.564019</td>\n",
       "      <td>30.118965</td>\n",
       "    </tr>\n",
       "    <tr>\n",
       "      <th>2</th>\n",
       "      <td>2</td>\n",
       "      <td>59.563842</td>\n",
       "      <td>30.119546</td>\n",
       "    </tr>\n",
       "    <tr>\n",
       "      <th>3</th>\n",
       "      <td>3</td>\n",
       "      <td>59.563842</td>\n",
       "      <td>30.119546</td>\n",
       "    </tr>\n",
       "    <tr>\n",
       "      <th>4</th>\n",
       "      <td>4</td>\n",
       "      <td>59.563614</td>\n",
       "      <td>30.120286</td>\n",
       "    </tr>\n",
       "  </tbody>\n",
       "</table>\n",
       "</div>"
      ],
      "text/plain": [
       "   n        lat        lon\n",
       "0  0  59.564019  30.118965\n",
       "1  1  59.564019  30.118965\n",
       "2  2  59.563842  30.119546\n",
       "3  3  59.563842  30.119546\n",
       "4  4  59.563614  30.120286"
      ]
     },
     "execution_count": 36,
     "metadata": {},
     "output_type": "execute_result"
    }
   ],
   "source": [
    "df = pd.read_csv('data.csv', sep=';')\n",
    "df.head()"
   ]
  },
  {
   "cell_type": "code",
   "execution_count": null,
   "metadata": {},
   "outputs": [],
   "source": [
    "data1=[]\n",
    "for i in len(df):\n",
    "    "
   ]
  },
  {
   "cell_type": "code",
   "execution_count": 2,
   "metadata": {},
   "outputs": [
    {
     "ename": "NameError",
     "evalue": "name 'plotly' is not defined",
     "output_type": "error",
     "traceback": [
      "\u001b[1;31m---------------------------------------------------------------------------\u001b[0m",
      "\u001b[1;31mNameError\u001b[0m                                 Traceback (most recent call last)",
      "\u001b[1;32m<ipython-input-2-239bd5086018>\u001b[0m in \u001b[0;36m<module>\u001b[1;34m\u001b[0m\n\u001b[0;32m      2\u001b[0m \u001b[1;32mimport\u001b[0m \u001b[0mplotly\u001b[0m\u001b[1;33m.\u001b[0m\u001b[0mgraph_objs\u001b[0m \u001b[1;32mas\u001b[0m \u001b[0mgo\u001b[0m\u001b[1;33m\u001b[0m\u001b[1;33m\u001b[0m\u001b[0m\n\u001b[0;32m      3\u001b[0m \u001b[1;33m\u001b[0m\u001b[0m\n\u001b[1;32m----> 4\u001b[1;33m \u001b[0mplotly\u001b[0m\u001b[1;33m.\u001b[0m\u001b[0mtools\u001b[0m\u001b[1;33m.\u001b[0m\u001b[0mset_credentials_file\u001b[0m\u001b[1;33m(\u001b[0m\u001b[0musername\u001b[0m\u001b[1;33m=\u001b[0m\u001b[1;34m'sadrik81'\u001b[0m\u001b[1;33m,\u001b[0m \u001b[0mapi_key\u001b[0m\u001b[1;33m=\u001b[0m\u001b[1;34m'L63ZtbLhPRTl01T9ykKn'\u001b[0m\u001b[1;33m)\u001b[0m\u001b[1;33m\u001b[0m\u001b[1;33m\u001b[0m\u001b[0m\n\u001b[0m\u001b[0;32m      5\u001b[0m \u001b[0mmapbox_access_token\u001b[0m \u001b[1;33m=\u001b[0m \u001b[1;34m'pk.eyJ1IjoiamFja2x1byIsImEiOiJjajNlcnh3MzEwMHZtMzNueGw3NWw5ZXF5In0.fk8k06T96Ml9CLGgKmk81w'\u001b[0m\u001b[1;33m\u001b[0m\u001b[1;33m\u001b[0m\u001b[0m\n\u001b[0;32m      6\u001b[0m \u001b[1;33m\u001b[0m\u001b[0m\n",
      "\u001b[1;31mNameError\u001b[0m: name 'plotly' is not defined"
     ]
    }
   ],
   "source": [
    "import plotly.plotly as py\n",
    "import plotly.graph_objs as go\n",
    "\n",
    "plotly.tools.set_credentials_file(username='sadrik81', api_key='L63ZtbLhPRTl01T9ykKn')\n",
    "mapbox_access_token = 'pk.eyJ1IjoiamFja2x1byIsImEiOiJjajNlcnh3MzEwMHZtMzNueGw3NWw5ZXF5In0.fk8k06T96Ml9CLGgKmk81w'\n",
    "\n",
    "data = [\n",
    "    go.Scattermapbox(\n",
    "        lat=['60','60.12'],\n",
    "        lon=['30','30'],\n",
    "        mode='markers',\n",
    "        marker=go.scattermapbox.Marker(\n",
    "            size=14\n",
    "        ),\n",
    "        text=['Ямы'],\n",
    "        \n",
    "    ),    \n",
    "    go.Scattermapbox(\n",
    "        lat=['60.1'],\n",
    "        lon=['30'],\n",
    "        mode='markers',\n",
    "        marker=go.scattermapbox.Marker(\n",
    "            size=14\n",
    "        ),\n",
    "        text=['Трещины'],\n",
    "        )\n",
    "]\n",
    "\n",
    "layout = go.Layout(\n",
    "    autosize=True,\n",
    "    hovermode='closest',\n",
    "    mapbox=go.layout.Mapbox(\n",
    "        accesstoken=mapbox_access_token,\n",
    "        bearing=0,\n",
    "        center=go.layout.mapbox.Center(\n",
    "            lat=60,\n",
    "            lon=30\n",
    "        ),\n",
    "        pitch=0,\n",
    "        zoom=6\n",
    "    ),\n",
    ")\n",
    "print (data)\n",
    "fig = go.Figure(data=data, layout=layout)\n",
    "py.iplot(fig, filename='Montreal Mapbox')\n",
    "py.plot(fig, filename='name.html')"
   ]
  },
  {
   "cell_type": "code",
   "execution_count": 49,
   "metadata": {},
   "outputs": [
    {
     "name": "stdout",
     "output_type": "stream",
     "text": [
      "[{\"lat\": [\"60\", \"60.12\"], \"lon\": [\"30\", \"30\"], \"marker\": {\"size\": 14}, \"mode\": \"markers\", \"text\": [\"\\u042f\\u043c\\u044b\"], \"type\": \"scattermapbox\"}, {\"lat\": [\"60.1\"], \"lon\": [\"30\"], \"marker\": {\"size\": 14}, \"mode\": \"markers\", \"text\": [\"\\u0422\\u0440\\u0435\\u0449\\u0438\\u043d\\u044b\"], \"type\": \"scattermapbox\"}]\n"
     ]
    }
   ],
   "source": [
    "import json\n",
    "graphJSON = json.dumps(data, cls=plotly.utils.PlotlyJSONEncoder)\n",
    "print (graphJSON)"
   ]
  },
  {
   "cell_type": "code",
   "execution_count": 52,
   "metadata": {},
   "outputs": [
    {
     "name": "stdout",
     "output_type": "stream",
     "text": [
      "[{\"x\": [0.0, 0.02564102564102564, 0.05128205128205128, 0.07692307692307693, 0.10256410256410256, 0.1282051282051282, 0.15384615384615385, 0.1794871794871795, 0.20512820512820512, 0.23076923076923075, 0.2564102564102564, 0.28205128205128205, 0.3076923076923077, 0.3333333333333333, 0.358974358974359, 0.3846153846153846, 0.41025641025641024, 0.4358974358974359, 0.4615384615384615, 0.48717948717948717, 0.5128205128205128, 0.5384615384615384, 0.5641025641025641, 0.5897435897435898, 0.6153846153846154, 0.641025641025641, 0.6666666666666666, 0.6923076923076923, 0.717948717948718, 0.7435897435897436, 0.7692307692307692, 0.7948717948717948, 0.8205128205128205, 0.8461538461538461, 0.8717948717948718, 0.8974358974358974, 0.923076923076923, 0.9487179487179487, 0.9743589743589743, 1.0], \"y\": [1.55573492749286, 0.026606653289659252, 0.1599169408301985, 0.022215113514599517, -0.5305729273931971, -0.3937724279962998, -0.6991373072895636, 0.9209879739659714, 0.7072064132720688, -2.067322354738912, -0.012061856723493582, 0.35779156496315523, 0.1486459452213868, 1.6239271585159722, 0.7382658833975052, 0.3342617900978333, 1.6395083164443782, 0.5205314002036064, -1.1501534395138882, 1.497014357371172, -1.2145212421558536, 0.6277352843690547, 0.3981499979371482, -1.9503501676670458, 0.9892662457224656, -0.25893416428104676, -0.47791751123911397, 1.0281423602155442, -0.10959101349859564, 0.502855657016994, -1.6511110282298491, -0.4565470336963001, -0.7467749396553167, 0.4463162731330056, -0.984341998621296, -1.749413703683144, 1.5111991937525664, 0.04013925729802992, -0.3848956288853716, -0.8537695461722307], \"type\": \"bar\"}]\n"
     ]
    }
   ],
   "source": [
    "import numpy as np\n",
    "N = 40\n",
    "x = np.linspace(0, 1, N)\n",
    "y = np.random.randn(N)\n",
    "df = pd.DataFrame({'x': x, 'y': y}) # creating a sample dataframe\n",
    "\n",
    "\n",
    "data = [\n",
    "        go.Bar(\n",
    "            x=df['x'], # assign x as the dataframe column 'x'\n",
    "            y=df['y']\n",
    "        )\n",
    "    ]\n",
    "\n",
    "graphJSON = json.dumps(data, cls=plotly.utils.PlotlyJSONEncoder)\n",
    "print (graphJSON)"
   ]
  },
  {
   "cell_type": "code",
   "execution_count": 5,
   "metadata": {},
   "outputs": [
    {
     "name": "stdout",
     "output_type": "stream",
     "text": [
      "[Scattermapbox({\n",
      "    'lat': ['60', '60.12'], 'lon': ['30', '30'], 'marker': {'size': [14]}, 'mode': 'markers', 'text': ['Грязно']\n",
      "}), Scattermapbox({\n",
      "    'lat': ['61', '60.12'], 'lon': ['30', '31'], 'marker': {'size': [30]}, 'mode': 'markers', 'text': ['Очень грязно']\n",
      "})]\n"
     ]
    },
    {
     "name": "stderr",
     "output_type": "stream",
     "text": [
      "C:\\Anacon\\lib\\site-packages\\IPython\\core\\display.py:689: UserWarning:\n",
      "\n",
      "Consider using IPython.display.IFrame instead\n",
      "\n"
     ]
    },
    {
     "data": {
      "text/plain": [
       "'https://plot.ly/~sadrik81/10'"
      ]
     },
     "execution_count": 5,
     "metadata": {},
     "output_type": "execute_result"
    }
   ],
   "source": [
    "import plotly.plotly as py\n",
    "import plotly.graph_objs as go\n",
    "\n",
    "plotly.tools.set_credentials_file(username='sadrik81', api_key='L63ZtbLhPRTl01T9ykKn')\n",
    "mapbox_access_token = 'pk.eyJ1IjoiamFja2x1byIsImEiOiJjajNlcnh3MzEwMHZtMzNueGw3NWw5ZXF5In0.fk8k06T96Ml9CLGgKmk81w'\n",
    "\n",
    "data = [\n",
    "    go.Scattermapbox(\n",
    "        lat=['60','60.12'],\n",
    "        lon=['30','30'],\n",
    "        mode='markers',\n",
    "        marker=go.scattermapbox.Marker(\n",
    "            size=[14]\n",
    "        ),\n",
    "        text=['Грязно'],\n",
    "        \n",
    "    ),\n",
    "     go.Scattermapbox(\n",
    "        lat=['61','60.12'],\n",
    "        lon=['30','31'],\n",
    "        mode='markers',\n",
    "        marker=go.scattermapbox.Marker(\n",
    "            size=[30]\n",
    "        ),\n",
    "        text=['Очень грязно'],\n",
    "        \n",
    "    )\n",
    "]\n",
    "\n",
    "layout = go.Layout(\n",
    "    autosize=True,\n",
    "    hovermode='closest',\n",
    "    mapbox=go.layout.Mapbox(\n",
    "        accesstoken=mapbox_access_token,\n",
    "        bearing=0,\n",
    "        center=go.layout.mapbox.Center(\n",
    "            lat=60,\n",
    "            lon=30\n",
    "        ),\n",
    "        pitch=0,\n",
    "        zoom=6\n",
    "    ),\n",
    ")\n",
    "print (data)\n",
    "fig = go.Figure(data=data, layout=layout)\n",
    "py.iplot(fig, filename='Montreal Mapbox')\n",
    "py.plot(fig, filename='litter.html')"
   ]
  },
  {
   "cell_type": "code",
   "execution_count": null,
   "metadata": {},
   "outputs": [],
   "source": []
  }
 ],
 "metadata": {
  "kernelspec": {
   "display_name": "Python 3",
   "language": "python",
   "name": "python3"
  },
  "language_info": {
   "codemirror_mode": {
    "name": "ipython",
    "version": 3
   },
   "file_extension": ".py",
   "mimetype": "text/x-python",
   "name": "python",
   "nbconvert_exporter": "python",
   "pygments_lexer": "ipython3",
   "version": "3.7.1"
  }
 },
 "nbformat": 4,
 "nbformat_minor": 2
}
